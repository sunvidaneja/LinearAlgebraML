{
 "cells": [
  {
   "cell_type": "raw",
   "metadata": {},
   "source": [
    "All Linear Algebra Operations for Matrices and Vectors"
   ]
  },
  {
   "cell_type": "code",
   "execution_count": 53,
   "metadata": {},
   "outputs": [],
   "source": [
    "import numpy as np"
   ]
  },
  {
   "cell_type": "code",
   "execution_count": 54,
   "metadata": {},
   "outputs": [],
   "source": [
    "A = np.array([[1,2,3],\n",
    "              [4,5,6],\n",
    "              [7,4,9]])\n",
    "\n",
    "B = np.matrix([[1,2,4],\n",
    "               [7,1,3],\n",
    "               [9,4,3]])"
   ]
  },
  {
   "cell_type": "code",
   "execution_count": 55,
   "metadata": {},
   "outputs": [],
   "source": [
    "#inverse\n",
    "inv_A = np.linalg.inv(A)"
   ]
  },
  {
   "cell_type": "code",
   "execution_count": 56,
   "metadata": {},
   "outputs": [],
   "source": [
    "#solve linear equations\n",
    "X = np.linalg.inv(A).dot(B)"
   ]
  },
  {
   "cell_type": "code",
   "execution_count": 57,
   "metadata": {},
   "outputs": [],
   "source": [
    "#solve linear equations 2\n",
    "X = np.linalg.solve(A,B)"
   ]
  },
  {
   "cell_type": "code",
   "execution_count": 58,
   "metadata": {},
   "outputs": [
    {
     "data": {
      "text/plain": [
       "array([[1, 4, 7],\n",
       "       [2, 5, 4],\n",
       "       [3, 6, 9]])"
      ]
     },
     "execution_count": 58,
     "metadata": {},
     "output_type": "execute_result"
    }
   ],
   "source": [
    "#transpose\n",
    "np.transpose(A)"
   ]
  },
  {
   "cell_type": "code",
   "execution_count": 59,
   "metadata": {},
   "outputs": [
    {
     "data": {
      "text/plain": [
       "-23.999999999999993"
      ]
     },
     "execution_count": 59,
     "metadata": {},
     "output_type": "execute_result"
    }
   ],
   "source": [
    "#determinant\n",
    "np.linalg.det(A)"
   ]
  },
  {
   "cell_type": "code",
   "execution_count": 60,
   "metadata": {},
   "outputs": [],
   "source": [
    "#change basis\n",
    "vec_new = np.linalg.inv(A).dot(B)"
   ]
  },
  {
   "cell_type": "code",
   "execution_count": 61,
   "metadata": {},
   "outputs": [
    {
     "name": "stdout",
     "output_type": "stream",
     "text": [
      "Projection of Vector u on Vector v is:  [0.55555556 1.11111111 1.11111111]\n"
     ]
    }
   ],
   "source": [
    "#projection of one vector on another\n",
    "u = np.array([1, 1, 1])\n",
    "v = np.array([1, 2, 2])\n",
    "\n",
    "# Task: Project vector u on vector v\n",
    "# finding norm of the vector v\n",
    "\n",
    "v_norm = np.sqrt(sum(v**2))\n",
    "\n",
    "# Apply the formula as mentioned above\n",
    "# for projecting a vector onto another vector\n",
    "# find dot product using np.dot()\n",
    "proj_of_u_on_v = (np.dot(u, v)/v_norm**2)*v\n",
    "print(\"Projection of Vector u on Vector v is: \", proj_of_u_on_v)"
   ]
  },
  {
   "cell_type": "code",
   "execution_count": 62,
   "metadata": {},
   "outputs": [
    {
     "name": "stdout",
     "output_type": "stream",
     "text": [
      "Projection of Vector u on Plane P is:  [ 0.76470588  3.76470588 -0.64705882]\n"
     ]
    }
   ],
   "source": [
    "# vector u \n",
    "u = np.array([2, 5, 8])\n",
    "\n",
    "# vector n: n is orthogonal vector to Plane P\n",
    "n = np.array([1, 1, 7])\n",
    "\n",
    "# Task: Project vector u on Plane P\n",
    "\n",
    "# finding norm of the vector n \n",
    "n_norm = np.sqrt(sum(n**2))\n",
    "\n",
    "# Apply the formula as mentioned above\n",
    "# for projecting a vector onto the orthogonal vector n\n",
    "# find dot product using np.dot()\n",
    "proj_of_u_on_n = (np.dot(u, n)/n_norm**2)*n\n",
    "\n",
    "# subtract proj_of_u_on_n from u: \n",
    "# this is the projection of u on Plane P\n",
    "print(\"Projection of Vector u on Plane P is: \", u - proj_of_u_on_n)"
   ]
  },
  {
   "cell_type": "code",
   "execution_count": 63,
   "metadata": {},
   "outputs": [
    {
     "data": {
      "text/plain": [
       "(array([14.47075914, -1.05011946,  1.57936032]),\n",
       " array([[-0.25792927, -0.81244376, -0.09396151],\n",
       "        [-0.59244793, -0.03972377, -0.83664891],\n",
       "        [-0.76320242,  0.58168477,  0.53962008]]))"
      ]
     },
     "execution_count": 63,
     "metadata": {},
     "output_type": "execute_result"
    }
   ],
   "source": [
    "#Eigenvectors\n",
    "np.linalg.eig(A)"
   ]
  },
  {
   "cell_type": "code",
   "execution_count": null,
   "metadata": {},
   "outputs": [],
   "source": []
  }
 ],
 "metadata": {
  "kernelspec": {
   "display_name": "Python 3",
   "language": "python",
   "name": "python3"
  },
  "language_info": {
   "codemirror_mode": {
    "name": "ipython",
    "version": 3
   },
   "file_extension": ".py",
   "mimetype": "text/x-python",
   "name": "python",
   "nbconvert_exporter": "python",
   "pygments_lexer": "ipython3",
   "version": "3.8.5"
  }
 },
 "nbformat": 4,
 "nbformat_minor": 4
}
